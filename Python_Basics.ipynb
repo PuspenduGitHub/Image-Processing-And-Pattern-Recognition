{
  "nbformat": 4,
  "nbformat_minor": 0,
  "metadata": {
    "colab": {
      "provenance": [],
      "authorship_tag": "ABX9TyOonQDEZDGJlv1ysdvqM0N2"
    },
    "kernelspec": {
      "name": "python3",
      "display_name": "Python 3"
    },
    "language_info": {
      "name": "python"
    }
  },
  "cells": [
    {
      "cell_type": "markdown",
      "source": [
        "# **Python Basics**"
      ],
      "metadata": {
        "id": "eyRthsquapXO"
      }
    },
    {
      "cell_type": "code",
      "execution_count": 2,
      "metadata": {
        "colab": {
          "base_uri": "https://localhost:8080/"
        },
        "id": "UhXQmv8raAsV",
        "outputId": "f7a0a595-1ab3-4c67-b35f-c45739c374fd"
      },
      "outputs": [
        {
          "output_type": "stream",
          "name": "stdout",
          "text": [
            "[1 2 3 4 5]\n"
          ]
        }
      ],
      "source": [
        "# 1.Create a 1D Numpy array and assign values. Then print the values\n",
        "\n",
        "import numpy as np\n",
        "array=np.array([1,2,3,4,5])\n",
        "print(array)"
      ]
    },
    {
      "cell_type": "code",
      "source": [
        "#2. Create a 2D NumPy array and assign values. Then print the values.\n",
        "\n",
        "import numpy as np\n",
        "array_2d = np.array ([[1,2,3], [4,5,6], [7,8,9]])\n",
        "print(array_2d)"
      ],
      "metadata": {
        "colab": {
          "base_uri": "https://localhost:8080/"
        },
        "id": "VDOQiF-6bS8D",
        "outputId": "ff7ba5b6-1f87-4d5b-ee26-04db6f6f588b"
      },
      "execution_count": 3,
      "outputs": [
        {
          "output_type": "stream",
          "name": "stdout",
          "text": [
            "[[1 2 3]\n",
            " [4 5 6]\n",
            " [7 8 9]]\n"
          ]
        }
      ]
    },
    {
      "cell_type": "code",
      "source": [
        "#3. Add a constant value to all elements of a 2D NumPy array.\n",
        "\n",
        "import numpy as np\n",
        "array_2d =np.array ([[1,2,3],[4,5,6], [7,8,9]])\n",
        "constant = 10\n",
        "array_2d_updated = array_2d + constant\n",
        "print(array_2d_updated)"
      ],
      "metadata": {
        "colab": {
          "base_uri": "https://localhost:8080/"
        },
        "id": "qDRLyCNBbZ_N",
        "outputId": "2a687c32-792b-4113-aec9-bdd8f03c8088"
      },
      "execution_count": 6,
      "outputs": [
        {
          "output_type": "stream",
          "name": "stdout",
          "text": [
            "[[11 12 13]\n",
            " [14 15 16]\n",
            " [17 18 19]]\n"
          ]
        }
      ]
    },
    {
      "cell_type": "code",
      "source": [
        "#4. Subtract a constant value to all elements of a 2D NumPy array.\n",
        "\n",
        "import numpy as np\n",
        "array_2d = np. array ([[10,20,30], [40,50,60], [70,80,90]])\n",
        "constant = 10\n",
        "array_2d_updated = array_2d - constant\n",
        "print(array_2d_updated)"
      ],
      "metadata": {
        "colab": {
          "base_uri": "https://localhost:8080/"
        },
        "id": "gAaw6xYGcAGB",
        "outputId": "aaefcbbf-49a2-462f-94cd-c49bc7fb92d3"
      },
      "execution_count": 7,
      "outputs": [
        {
          "output_type": "stream",
          "name": "stdout",
          "text": [
            "[[ 0 10 20]\n",
            " [30 40 50]\n",
            " [60 70 80]]\n"
          ]
        }
      ]
    },
    {
      "cell_type": "code",
      "source": [
        "# 5. Calculate the sum of all elements of a 2D NumPy array.\n",
        "\n",
        "import numpy as np\n",
        "array_2d = np.array ([[1,2,3],[4,5,6],[7,8,9]])\n",
        "total_sum = np. sum (array_2d)\n",
        "print(total_sum)"
      ],
      "metadata": {
        "colab": {
          "base_uri": "https://localhost:8080/"
        },
        "id": "nPx8uZG7cpqs",
        "outputId": "d367a613-bf95-4e7c-ef92-63d395c6ef10"
      },
      "execution_count": 8,
      "outputs": [
        {
          "output_type": "stream",
          "name": "stdout",
          "text": [
            "45\n"
          ]
        }
      ]
    },
    {
      "cell_type": "code",
      "source": [
        "#6. Perform element wise sum between two 2D NumPy arrays.\n",
        "\n",
        "import numpy as np\n",
        "array1=np.array([[1,2,3],[4,5,6],[7,8,9]])\n",
        "array2=np.array([[11,12,13],[14,15,16],[17,18,19]])\n",
        "sum_array= array1+array2\n",
        "print(sum_array)"
      ],
      "metadata": {
        "colab": {
          "base_uri": "https://localhost:8080/"
        },
        "id": "biDDVlECdPQz",
        "outputId": "d7a86a0c-652f-422f-c3d1-6dc07b09fe5a"
      },
      "execution_count": 9,
      "outputs": [
        {
          "output_type": "stream",
          "name": "stdout",
          "text": [
            "[[12 14 16]\n",
            " [18 20 22]\n",
            " [24 26 28]]\n"
          ]
        }
      ]
    },
    {
      "cell_type": "code",
      "source": [
        "#7. Perform element wise subtraction between two 2D NumPy arrays.\n",
        "\n",
        "import numpy as np\n",
        "array1 = np.array([[1,2,3],[4,5,6],[7,8,9]])\n",
        "array2 = np.array([[11,12,13],[14,15,16],[17,18,19]])\n",
        "subtraction_array= array1 - array2\n",
        "print(subtraction_array)"
      ],
      "metadata": {
        "colab": {
          "base_uri": "https://localhost:8080/"
        },
        "id": "TquvX6pedVE_",
        "outputId": "3d51fc94-a729-485d-a40c-2c62edd25921"
      },
      "execution_count": 10,
      "outputs": [
        {
          "output_type": "stream",
          "name": "stdout",
          "text": [
            "[[-10 -10 -10]\n",
            " [-10 -10 -10]\n",
            " [-10 -10 -10]]\n"
          ]
        }
      ]
    },
    {
      "cell_type": "code",
      "source": [
        "#8. Perform matrix multiplication between two 2D NumPy arrays.\n",
        "\n",
        "import numpy as np\n",
        "array1=np.array([[1,2,3],[4,5,6],[7,8,9]])\n",
        "array2=np.array([[11,12,13],[14,15,16],[17,18,19]])\n",
        "multiplication_array=array1*array2\n",
        "print(multiplication_array)"
      ],
      "metadata": {
        "colab": {
          "base_uri": "https://localhost:8080/"
        },
        "id": "jCqpd2IUdynL",
        "outputId": "41d10403-60f9-4ee9-b0b8-fba722f9a3f1"
      },
      "execution_count": 11,
      "outputs": [
        {
          "output_type": "stream",
          "name": "stdout",
          "text": [
            "[[ 11  24  39]\n",
            " [ 56  75  96]\n",
            " [119 144 171]]\n"
          ]
        }
      ]
    }
  ]
}